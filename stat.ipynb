{
 "cells": [
  {
   "cell_type": "markdown",
   "metadata": {
    "collapsed": true,
    "pycharm": {
     "name": "#%% md\n"
    }
   },
   "source": [
    "# IZV Task 2 - hypothesis testing\n",
    "\n",
    "## Hypotesis 1\n",
    "**The death probability on first class roads is the same as on highways**"
   ]
  },
  {
   "cell_type": "markdown",
   "source": [
    "Import the neccessary libraries"
   ],
   "metadata": {
    "collapsed": false,
    "pycharm": {
     "name": "#%% md\n"
    }
   }
  },
  {
   "cell_type": "code",
   "source": [
    "import pandas as pd\n",
    "from scipy.stats import chi2_contingency"
   ],
   "metadata": {
    "collapsed": false,
    "pycharm": {
     "name": "#%%\n"
    }
   },
   "execution_count": 1,
   "outputs": []
  },
  {
   "cell_type": "markdown",
   "source": [
    "Load the dataframe"
   ],
   "metadata": {
    "collapsed": false
   }
  },
  {
   "cell_type": "code",
   "execution_count": 2,
   "outputs": [
    {
     "data": {
      "text/plain": "                  p1  p36    p37         p2a  weekday(p2a)   p2b  p6  p7  p8  \\\n0       002100160001    4     -1  2016-01-01             5    55   1   1   0   \n1       002100160002    4     -1  2016-01-01             5   130   1   3   0   \n2       002100160003    5     -1  2016-01-01             5   100   1   2   0   \n3       002100160004    6     -1  2016-01-01             5   120   9   0   0   \n4       002100160005    6     -1  2016-01-01             5  2560   2   0   0   \n...              ...  ...    ...         ...           ...   ...  ..  ..  ..   \n572929  190906210457    6     -1  2021-08-30             1   506   2   0   0   \n572930  190906210458    6     -1  2021-08-30             1   752   2   0   0   \n572931  190906210459    3   2099  2021-08-30             1  1505   1   3   0   \n572932  190906210460    3   2099  2021-08-31             2  1245   0   0   0   \n572933  190906210461    3  21029  2021-08-31             2  1834   3   0   4   \n\n        p9  ...      l        n  o                       p       q       r  \\\n0        2  ...          711403     Souhlasnýsesměremúseku  Pomalý  554782   \n1        2  ...                                                         -1   \n2        2  ...                                                         -1   \n3        2  ...                                                         -1   \n4        2  ...                                                         -1   \n...     ..  ...    ...      ... ..                     ...     ...     ...   \n572929   2  ...         2611387                             Pomalý  560359   \n572930   2  ...         2541503         Opačnýkesměruúseku  Pomalý  560383   \n572931   2  ...                                                         -1   \n572932   1  ...   2099   199764         Opačnýkesměruúseku  Pomalý  560286   \n572933   1  ...  21029  3650728     Souhlasnýsesměremúseku  Pomalý  560324   \n\n             s                   t  p5a  region  \n0       451622  GN_V0.1UIR-ADR_410    1     PHA  \n1           -1                        1     PHA  \n2           -1                        1     PHA  \n3           -1                        1     PHA  \n4           -1                        1     PHA  \n...        ...                 ...  ...     ...  \n572929      -1  GN_V0.1UIR-ADR_410    1     KVK  \n572930  550426  GN_V0.1UIR-ADR_410    1     KVK  \n572931      -1                        1     KVK  \n572932  553654  GN_V0.1UIR-ADR_410    1     KVK  \n572933      -1  GN_V0.1UIR-ADR_410    2     KVK  \n\n[572934 rows x 65 columns]",
      "text/html": "<div>\n<style scoped>\n    .dataframe tbody tr th:only-of-type {\n        vertical-align: middle;\n    }\n\n    .dataframe tbody tr th {\n        vertical-align: top;\n    }\n\n    .dataframe thead th {\n        text-align: right;\n    }\n</style>\n<table border=\"1\" class=\"dataframe\">\n  <thead>\n    <tr style=\"text-align: right;\">\n      <th></th>\n      <th>p1</th>\n      <th>p36</th>\n      <th>p37</th>\n      <th>p2a</th>\n      <th>weekday(p2a)</th>\n      <th>p2b</th>\n      <th>p6</th>\n      <th>p7</th>\n      <th>p8</th>\n      <th>p9</th>\n      <th>...</th>\n      <th>l</th>\n      <th>n</th>\n      <th>o</th>\n      <th>p</th>\n      <th>q</th>\n      <th>r</th>\n      <th>s</th>\n      <th>t</th>\n      <th>p5a</th>\n      <th>region</th>\n    </tr>\n  </thead>\n  <tbody>\n    <tr>\n      <th>0</th>\n      <td>002100160001</td>\n      <td>4</td>\n      <td>-1</td>\n      <td>2016-01-01</td>\n      <td>5</td>\n      <td>55</td>\n      <td>1</td>\n      <td>1</td>\n      <td>0</td>\n      <td>2</td>\n      <td>...</td>\n      <td></td>\n      <td>711403</td>\n      <td></td>\n      <td>Souhlasnýsesměremúseku</td>\n      <td>Pomalý</td>\n      <td>554782</td>\n      <td>451622</td>\n      <td>GN_V0.1UIR-ADR_410</td>\n      <td>1</td>\n      <td>PHA</td>\n    </tr>\n    <tr>\n      <th>1</th>\n      <td>002100160002</td>\n      <td>4</td>\n      <td>-1</td>\n      <td>2016-01-01</td>\n      <td>5</td>\n      <td>130</td>\n      <td>1</td>\n      <td>3</td>\n      <td>0</td>\n      <td>2</td>\n      <td>...</td>\n      <td></td>\n      <td></td>\n      <td></td>\n      <td></td>\n      <td></td>\n      <td>-1</td>\n      <td>-1</td>\n      <td></td>\n      <td>1</td>\n      <td>PHA</td>\n    </tr>\n    <tr>\n      <th>2</th>\n      <td>002100160003</td>\n      <td>5</td>\n      <td>-1</td>\n      <td>2016-01-01</td>\n      <td>5</td>\n      <td>100</td>\n      <td>1</td>\n      <td>2</td>\n      <td>0</td>\n      <td>2</td>\n      <td>...</td>\n      <td></td>\n      <td></td>\n      <td></td>\n      <td></td>\n      <td></td>\n      <td>-1</td>\n      <td>-1</td>\n      <td></td>\n      <td>1</td>\n      <td>PHA</td>\n    </tr>\n    <tr>\n      <th>3</th>\n      <td>002100160004</td>\n      <td>6</td>\n      <td>-1</td>\n      <td>2016-01-01</td>\n      <td>5</td>\n      <td>120</td>\n      <td>9</td>\n      <td>0</td>\n      <td>0</td>\n      <td>2</td>\n      <td>...</td>\n      <td></td>\n      <td></td>\n      <td></td>\n      <td></td>\n      <td></td>\n      <td>-1</td>\n      <td>-1</td>\n      <td></td>\n      <td>1</td>\n      <td>PHA</td>\n    </tr>\n    <tr>\n      <th>4</th>\n      <td>002100160005</td>\n      <td>6</td>\n      <td>-1</td>\n      <td>2016-01-01</td>\n      <td>5</td>\n      <td>2560</td>\n      <td>2</td>\n      <td>0</td>\n      <td>0</td>\n      <td>2</td>\n      <td>...</td>\n      <td></td>\n      <td></td>\n      <td></td>\n      <td></td>\n      <td></td>\n      <td>-1</td>\n      <td>-1</td>\n      <td></td>\n      <td>1</td>\n      <td>PHA</td>\n    </tr>\n    <tr>\n      <th>...</th>\n      <td>...</td>\n      <td>...</td>\n      <td>...</td>\n      <td>...</td>\n      <td>...</td>\n      <td>...</td>\n      <td>...</td>\n      <td>...</td>\n      <td>...</td>\n      <td>...</td>\n      <td>...</td>\n      <td>...</td>\n      <td>...</td>\n      <td>...</td>\n      <td>...</td>\n      <td>...</td>\n      <td>...</td>\n      <td>...</td>\n      <td>...</td>\n      <td>...</td>\n      <td>...</td>\n    </tr>\n    <tr>\n      <th>572929</th>\n      <td>190906210457</td>\n      <td>6</td>\n      <td>-1</td>\n      <td>2021-08-30</td>\n      <td>1</td>\n      <td>506</td>\n      <td>2</td>\n      <td>0</td>\n      <td>0</td>\n      <td>2</td>\n      <td>...</td>\n      <td></td>\n      <td>2611387</td>\n      <td></td>\n      <td></td>\n      <td>Pomalý</td>\n      <td>560359</td>\n      <td>-1</td>\n      <td>GN_V0.1UIR-ADR_410</td>\n      <td>1</td>\n      <td>KVK</td>\n    </tr>\n    <tr>\n      <th>572930</th>\n      <td>190906210458</td>\n      <td>6</td>\n      <td>-1</td>\n      <td>2021-08-30</td>\n      <td>1</td>\n      <td>752</td>\n      <td>2</td>\n      <td>0</td>\n      <td>0</td>\n      <td>2</td>\n      <td>...</td>\n      <td></td>\n      <td>2541503</td>\n      <td></td>\n      <td>Opačnýkesměruúseku</td>\n      <td>Pomalý</td>\n      <td>560383</td>\n      <td>550426</td>\n      <td>GN_V0.1UIR-ADR_410</td>\n      <td>1</td>\n      <td>KVK</td>\n    </tr>\n    <tr>\n      <th>572931</th>\n      <td>190906210459</td>\n      <td>3</td>\n      <td>2099</td>\n      <td>2021-08-30</td>\n      <td>1</td>\n      <td>1505</td>\n      <td>1</td>\n      <td>3</td>\n      <td>0</td>\n      <td>2</td>\n      <td>...</td>\n      <td></td>\n      <td></td>\n      <td></td>\n      <td></td>\n      <td></td>\n      <td>-1</td>\n      <td>-1</td>\n      <td></td>\n      <td>1</td>\n      <td>KVK</td>\n    </tr>\n    <tr>\n      <th>572932</th>\n      <td>190906210460</td>\n      <td>3</td>\n      <td>2099</td>\n      <td>2021-08-31</td>\n      <td>2</td>\n      <td>1245</td>\n      <td>0</td>\n      <td>0</td>\n      <td>0</td>\n      <td>1</td>\n      <td>...</td>\n      <td>2099</td>\n      <td>199764</td>\n      <td></td>\n      <td>Opačnýkesměruúseku</td>\n      <td>Pomalý</td>\n      <td>560286</td>\n      <td>553654</td>\n      <td>GN_V0.1UIR-ADR_410</td>\n      <td>1</td>\n      <td>KVK</td>\n    </tr>\n    <tr>\n      <th>572933</th>\n      <td>190906210461</td>\n      <td>3</td>\n      <td>21029</td>\n      <td>2021-08-31</td>\n      <td>2</td>\n      <td>1834</td>\n      <td>3</td>\n      <td>0</td>\n      <td>4</td>\n      <td>1</td>\n      <td>...</td>\n      <td>21029</td>\n      <td>3650728</td>\n      <td></td>\n      <td>Souhlasnýsesměremúseku</td>\n      <td>Pomalý</td>\n      <td>560324</td>\n      <td>-1</td>\n      <td>GN_V0.1UIR-ADR_410</td>\n      <td>2</td>\n      <td>KVK</td>\n    </tr>\n  </tbody>\n</table>\n<p>572934 rows × 65 columns</p>\n</div>"
     },
     "execution_count": 2,
     "metadata": {},
     "output_type": "execute_result"
    }
   ],
   "source": [
    "df = pd.read_pickle(\"accidents.pkl.gz\")\n",
    "df\n"
   ],
   "metadata": {
    "collapsed": false,
    "pycharm": {
     "name": "#%%\n"
    }
   }
  },
  {
   "cell_type": "markdown",
   "source": [
    "Determine which accidents were fatal and limit the road types to highways and first class roads"
   ],
   "metadata": {
    "collapsed": false
   }
  },
  {
   "cell_type": "code",
   "execution_count": 3,
   "outputs": [],
   "source": [
    "df[\"fatal\"] = df[\"p13a\"] > 0\n",
    "df = df[df[\"p36\"].isin([0, 1])]"
   ],
   "metadata": {
    "collapsed": false,
    "pycharm": {
     "name": "#%%\n"
    }
   }
  },
  {
   "cell_type": "markdown",
   "source": [
    "Create a contingency table\n"
   ],
   "metadata": {
    "collapsed": false
   }
  },
  {
   "cell_type": "code",
   "execution_count": 4,
   "outputs": [
    {
     "data": {
      "text/plain": "p36        0      1\nfatal              \nFalse  24293  78618\nTrue     166    911",
      "text/html": "<div>\n<style scoped>\n    .dataframe tbody tr th:only-of-type {\n        vertical-align: middle;\n    }\n\n    .dataframe tbody tr th {\n        vertical-align: top;\n    }\n\n    .dataframe thead th {\n        text-align: right;\n    }\n</style>\n<table border=\"1\" class=\"dataframe\">\n  <thead>\n    <tr style=\"text-align: right;\">\n      <th>p36</th>\n      <th>0</th>\n      <th>1</th>\n    </tr>\n    <tr>\n      <th>fatal</th>\n      <th></th>\n      <th></th>\n    </tr>\n  </thead>\n  <tbody>\n    <tr>\n      <th>False</th>\n      <td>24293</td>\n      <td>78618</td>\n    </tr>\n    <tr>\n      <th>True</th>\n      <td>166</td>\n      <td>911</td>\n    </tr>\n  </tbody>\n</table>\n</div>"
     },
     "execution_count": 4,
     "metadata": {},
     "output_type": "execute_result"
    }
   ],
   "source": [
    "ct = pd.crosstab(index=df[\"fatal\"], columns=df[\"p36\"])\n",
    "ct\n"
   ],
   "metadata": {
    "collapsed": false,
    "pycharm": {
     "name": "#%%\n"
    }
   }
  },
  {
   "cell_type": "markdown",
   "source": [
    "Compute $\\chi^2$ test\n"
   ],
   "metadata": {
    "collapsed": false
   }
  },
  {
   "cell_type": "code",
   "execution_count": 5,
   "outputs": [
    {
     "data": {
      "text/plain": "(39.314921530329016,\n 3.6067450279444316e-10,\n 1,\n array([[24205.67901104, 78705.32098896],\n        [  253.32098896,   823.67901104]]))"
     },
     "execution_count": 5,
     "metadata": {},
     "output_type": "execute_result"
    }
   ],
   "source": [
    "res = chi2_contingency(ct)\n",
    "res"
   ],
   "metadata": {
    "collapsed": false,
    "pycharm": {
     "name": "#%%\n"
    }
   }
  },
  {
   "cell_type": "markdown",
   "source": [
    "Find out the difference between the expected frequencies and actual results"
   ],
   "metadata": {
    "collapsed": false,
    "pycharm": {
     "name": "#%% md\n"
    }
   }
  },
  {
   "cell_type": "code",
   "execution_count": 7,
   "outputs": [
    {
     "data": {
      "text/plain": "p36            0          1\nfatal                      \nFalse  87.320989 -87.320989\nTrue  -87.320989  87.320989",
      "text/html": "<div>\n<style scoped>\n    .dataframe tbody tr th:only-of-type {\n        vertical-align: middle;\n    }\n\n    .dataframe tbody tr th {\n        vertical-align: top;\n    }\n\n    .dataframe thead th {\n        text-align: right;\n    }\n</style>\n<table border=\"1\" class=\"dataframe\">\n  <thead>\n    <tr style=\"text-align: right;\">\n      <th>p36</th>\n      <th>0</th>\n      <th>1</th>\n    </tr>\n    <tr>\n      <th>fatal</th>\n      <th></th>\n      <th></th>\n    </tr>\n  </thead>\n  <tbody>\n    <tr>\n      <th>False</th>\n      <td>87.320989</td>\n      <td>-87.320989</td>\n    </tr>\n    <tr>\n      <th>True</th>\n      <td>-87.320989</td>\n      <td>87.320989</td>\n    </tr>\n  </tbody>\n</table>\n</div>"
     },
     "execution_count": 7,
     "metadata": {},
     "output_type": "execute_result"
    }
   ],
   "source": [
    "ct - res[3]"
   ],
   "metadata": {
    "collapsed": false,
    "pycharm": {
     "name": "#%%\n"
    }
   }
  },
  {
   "cell_type": "markdown",
   "source": [
    "**Hypotesis 1 - Conclusion**\n",
    "\n",
    "The p-value of $3.6\\cdot10^{-10}$ is much smaller than $0.05$.\n",
    "For this reason we consider the null hypothesis to be false\n",
    "and declare that there is significant correlation between\n",
    "the chance of fatal accidents on highways and first class roads.\n",
    "\n",
    "From the difference between the expected and actual result\n",
    "we can also see that first class roads caused more fatal injuries overall.\n"
   ],
   "metadata": {
    "collapsed": false,
    "pycharm": {
     "name": "#%% md\n"
    }
   }
  }
 ],
 "metadata": {
  "kernelspec": {
   "name": "python3",
   "language": "python",
   "display_name": "Python 3 (ipykernel)"
  },
  "language_info": {
   "codemirror_mode": {
    "name": "ipython",
    "version": 2
   },
   "file_extension": ".py",
   "mimetype": "text/x-python",
   "name": "python",
   "nbconvert_exporter": "python",
   "pygments_lexer": "ipython2",
   "version": "2.7.6"
  }
 },
 "nbformat": 4,
 "nbformat_minor": 0
}